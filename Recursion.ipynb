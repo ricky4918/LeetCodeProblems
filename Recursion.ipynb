{
 "cells": [
  {
   "cell_type": "code",
   "execution_count": 1,
   "metadata": {},
   "outputs": [
    {
     "name": "stdout",
     "output_type": "stream",
     "text": [
      "[0, 1, 2, 3, 4, 5, 6, 7, 8, 9, 10, 11, 12, 13, 14, 15, 16, 17, 18, 19]\n"
     ]
    }
   ],
   "source": [
    "\n",
    "import sys\n",
    "sys.setrecursionlimit(10000)\n",
    "\n",
    "def fun(target, n = 0, arr = []): # n: recursion depth\n",
    "\n",
    "\n",
    "\n",
    "    if n == target:\n",
    "\n",
    "        return \n",
    "\n",
    "    else: \n",
    "\n",
    "        arr.append(n)\n",
    "        fun(target, n+1, arr)\n",
    "\n",
    "    return arr\n",
    "\n",
    "\n",
    "print(fun(20))"
   ]
  },
  {
   "cell_type": "code",
   "execution_count": 2,
   "metadata": {},
   "outputs": [
    {
     "name": "stdout",
     "output_type": "stream",
     "text": [
      "[1, 2, 3, 4, 5, 1, 2, 3, 4, 3]\n"
     ]
    }
   ],
   "source": [
    "outputList = []\n",
    "def listFlatten(inputList):\n",
    " \n",
    "    \n",
    "    for i in inputList:\n",
    "\n",
    "        if type(i) == int:\n",
    "            outputList.append(i)\n",
    "\n",
    "        elif type(i) == list:\n",
    "            listFlatten(i)  \n",
    "    return outputList\n",
    "\n",
    "\n",
    "toFlatten = [1,2,3,4,5,[1,2,3,4],3]\n",
    "print(listFlatten(toFlatten))\n"
   ]
  },
  {
   "cell_type": "code",
   "execution_count": null,
   "metadata": {},
   "outputs": [],
   "source": []
  }
 ],
 "metadata": {
  "interpreter": {
   "hash": "54f95251d1a7b7ba2fb764aa763bc464a1219b11d487d6ab3e193c10206ee146"
  },
  "kernelspec": {
   "display_name": "Python 3.8.10 64-bit (windows store)",
   "language": "python",
   "name": "python3"
  },
  "language_info": {
   "codemirror_mode": {
    "name": "ipython",
    "version": 3
   },
   "file_extension": ".py",
   "mimetype": "text/x-python",
   "name": "python",
   "nbconvert_exporter": "python",
   "pygments_lexer": "ipython3",
   "version": "3.8.10"
  },
  "orig_nbformat": 4
 },
 "nbformat": 4,
 "nbformat_minor": 2
}
